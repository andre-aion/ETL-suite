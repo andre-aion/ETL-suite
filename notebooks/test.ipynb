{
 "cells": [
  {
   "cell_type": "code",
   "execution_count": 15,
   "metadata": {
    "collapsed": true
   },
   "outputs": [
    {
     "name": "stdout",
     "output_type": "stream",
     "text": [
      "Dask DataFrame Structure:\n                col1   col2      a    col3    col4\nnpartitions=3                                     \n               int64  int64  int64  object  object\n                 ...    ...    ...     ...     ...\n                 ...    ...    ...     ...     ...\n                 ...    ...    ...     ...     ...\nDask Name: merge, 11 tasks\n"
     ]
    }
   ],
   "source": [
    "import pandas as pd\n",
    "import dask as dd\n",
    "df1 = pd.DataFrame(data={'col1': [1, 2, 3,4], 'col2': [3, 4,5,4]})\n",
    "df2 = pd.DataFrame(data={'col3': ['a','b'], 'col4': ['c','d']})\n",
    "df1 = dd.dataframe.from_pandas(df1,npartitions=25)\n",
    "df2 = dd.dataframe.from_pandas(df2,npartitions=25)\n",
    "df1 = df1.assign(a=1)\n",
    "df2 = df2.assign(a=1)\n",
    "df3 = df1.merge(df2,on='a')\n",
    "print(df3)"
   ]
  },
  {
   "cell_type": "code",
   "execution_count": 5,
   "metadata": {},
   "outputs": [],
   "source": []
  },
  {
   "cell_type": "code",
   "execution_count": null,
   "metadata": {},
   "outputs": [],
   "source": []
  }
 ],
 "metadata": {
  "kernelspec": {
   "display_name": "Python 2",
   "language": "python",
   "name": "python2"
  },
  "language_info": {
   "codemirror_mode": {
    "name": "ipython",
    "version": 2
   },
   "file_extension": ".py",
   "mimetype": "text/x-python",
   "name": "python",
   "nbconvert_exporter": "python",
   "pygments_lexer": "ipython2",
   "version": "2.7.6"
  }
 },
 "nbformat": 4,
 "nbformat_minor": 0
}
